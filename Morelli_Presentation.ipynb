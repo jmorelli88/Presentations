{
 "cells": [
  {
   "cell_type": "markdown",
   "metadata": {
    "slideshow": {
     "slide_type": "slide"
    }
   },
   "source": [
    "### What is the CompEcon Toolbox?\n",
    "\n",
    "* It is a MATLAB toolbox supporting Miranda and Fackler (2005): \"Applied Computational Economics and Finance\".\n",
    "\n",
    "\n",
    "* The library functions include:\n",
    "    * Rootfinding and optimization solvers\n",
    "    * Function approximation using polynomials, splines and other functional families\n",
    "    * Numerical integration\n",
    "    * Solvers for Ordinary Differential Equations\n",
    "    * Routines solving discrete and continuous time dynamic programming problems\n",
    "    * Solvers for financial derivatives\n",
    "\n",
    "\n",
    "* The toolbox has been translated to **Julia** by Spencer Lyon."
   ]
  },
  {
   "cell_type": "markdown",
   "metadata": {
    "slideshow": {
     "slide_type": "slide"
    }
   },
   "source": [
    "### Interpolations Using CompEcon\n",
    "\n",
    "* The CompEcon toolbox allows us to compute interpolations for:\n",
    "\n",
    "    * Any number of dimensions\n",
    "    * Any order of derivative and integral operators\n",
    "    * Any order B-spline, Chebyshev polynomial, and piecewise linear basis functions\n",
    "    * We can mix among different types of families across dimensions (i.e. Chebychev for x and splines for $\\epsilon$)"
   ]
  },
  {
   "cell_type": "markdown",
   "metadata": {
    "slideshow": {
     "slide_type": "slide"
    }
   },
   "source": [
    "### Structure of the Toolbox - Julia Version\n",
    "\n",
    "* Think on 3 main \"theoretical\" categories:\n",
    "\n",
    "    1. A functional `Basis`: Family of basis functions; Domain; Interpolation Nodes [see `basis.jl`].\n",
    "    2. A `BasisStructure` representation: it evaluates the basis functions at the desired interpolation nodes [see `basis_structure.jl`].\n",
    "    3. Coefficient vector: map from the domain of the `Basis` to the real line [obtained by solving linear system of equations].\n",
    "\n",
    "\n",
    "* This general structure is going to become clearer once we go into an example model.\n",
    "\n",
    "\n",
    "* This theoretical construct is mapped into **Julia** by defining groups of types\n",
    "\n",
    "\n",
    "See https://github.com/spencerlyon2/CompEcon.jl"
   ]
  },
  {
   "cell_type": "markdown",
   "metadata": {
    "slideshow": {
     "slide_type": "slide"
    }
   },
   "source": [
    "### Group of Types\n",
    "\n",
    "**Group 1:** types to represent the `Basis` in `Basis.jl`.\n",
    "* `BasisFamily`: abstract type that defines the interpolant families.\n",
    "```\n",
    "abstract BasisFamily\n",
    "immutable Cheb <: BasisFamily end\n",
    "immutable Lin <: BasisFamily end\n",
    "immutable Spline <: BasisFamily end\n",
    "```\n",
    "* `BasisParams`: abstract type whose fields are all info needed to construct *univariate* basis.\n",
    "```\n",
    "type ChebParams <: BasisParams\n",
    "    n::Int\n",
    "    a::Float64\n",
    "    b::Float64\n",
    "end\n",
    "```\n",
    "```\n",
    "type SplineParams <: BasisParams\n",
    "    breaks::Vector{Float64}\n",
    "    evennum::Int\n",
    "    k::Int\n",
    "end\n",
    "```\n",
    "```\n",
    "type LinParams <: BasisParams\n",
    "    breaks::Vector{Float64}\n",
    "    evennum::Int\n",
    "end\n",
    "```"
   ]
  },
  {
   "cell_type": "markdown",
   "metadata": {
    "slideshow": {
     "slide_type": "slide"
    }
   },
   "source": [
    "* `Basis{N}`:\n",
    "```\n",
    "type Basis{N, BF<:BasisFamily, BP<:BasisParams}\n",
    "    basistype::Vector{BF}  # Basis family\n",
    "    n::Vector{Int}         # number of points and/or basis functions\n",
    "    a::Vector{Float64}     # lower bound of domain\n",
    "    b::Vector{Float64}     # upper bound of domain\n",
    "    params::Vector{BP}     # params to construct basis\n",
    "end\n",
    "```\n",
    "\n",
    "* Finally note that inside this file there are two additional useful functions:\n",
    "\n",
    "    1. `nodes`: given the chosen `Basis`, it computes the nodes.\n",
    "    2. `Basis`: used to define the basis and also to create multidimensional basis.\n",
    "   "
   ]
  },
  {
   "cell_type": "markdown",
   "metadata": {
    "slideshow": {
     "slide_type": "slide"
    }
   },
   "source": [
    "**Group 2:** type to represent the `BasisStructure` in `basis_structure.jl`.\n",
    "\n",
    "* `AbstractBasisStructureRep` [`ABSR`]: it groups the types of representation (Tensor, Direct, Expanded).\n",
    "\n",
    "\n",
    "* An important function is `BasisStructure`.\n",
    "\n",
    "    * Its inputs are the `basis`, the type of representation (Tensor, etc) and the nodes.\n",
    "    * Its output is the interpolant valued at the nodes, $\\Phi$ (Matrix).\n",
    "\n",
    "* Another interesting function is `Base.convert` which converts from a `Tensor` or `Direct` `BasisStructure` to an `Expanded` one.\n",
    "\n",
    "\n",
    "* For example, the following will convert from direct to expanded.\n",
    "```\n",
    "Φ_direct = BasisStructure(basis, CompEcon.Direct(),snodes,0)\n",
    "Φ = convert(Expanded, Φ_direct, [0 0]).vals[1]\n",
    "```\n",
    "\n",
    "\n",
    "* In the end we will need the expanded version, but the other two are more efficient in terms of storage."
   ]
  },
  {
   "cell_type": "markdown",
   "metadata": {
    "slideshow": {
     "slide_type": "slide"
    }
   },
   "source": [
    "## Quick Example (Same as Spencer's GitHub)\n",
    "\n",
    "### One Dimension:\n",
    "Approximate  $f(x)=e^{-x}$ on $x\\in[-1,1]$ using the three types of interpolations.\n",
    "\n",
    "For a known univariate function $f(x)$ there are 3 ways to approximate it. I will do the three of them, but changing the basis type (Cheb and Splines).\n",
    "\n",
    "```\n",
    "using CompEcon\n",
    "f(x) = exp(-x)\n",
    "a,b = -1.0,1.0\n",
    "```\n",
    "*** Option 1: Using `funfitf`***\n",
    "```\n",
    "n = 10\n",
    "basis_c = Basis(Cheb, n, a, b)\n",
    "c_c = funfitf(basis_c, f)\n",
    "```"
   ]
  },
  {
   "cell_type": "markdown",
   "metadata": {
    "slideshow": {
     "slide_type": "slide"
    }
   },
   "source": [
    "*** Option 2: Using `funfitxy`***\n",
    "```\n",
    "xgrid = collect(linspace(a,b,n))\n",
    "basis_s = Basis(Spline, xgrid, 0, 1)\n",
    "x_s = nodes(basis_s)[1]\n",
    "y_s = f(x_s)\n",
    "c_s = funfitxy(basis_s, x_s, y_s)[1]\n",
    "```\n",
    "*** Option 3: Using `BasisStructure`***\n",
    "```\n",
    "x_c = nodes(basis_c)[1]\n",
    "y_c = f(x_c)\n",
    "phi_c = BasisStructure(basis_c).vals[1]\n",
    "c_c2 = phi_c\\y_c\n",
    "```"
   ]
  },
  {
   "cell_type": "code",
   "execution_count": null,
   "metadata": {
    "collapsed": false,
    "slideshow": {
     "slide_type": "slide"
    }
   },
   "outputs": [],
   "source": [
    "using CompEcon\n",
    "f(x) = exp(-x)\n",
    "\n",
    "# Set the endpoints of approximation interval:\n",
    "a =  -1.0                            # left endpoint\n",
    "b =   1.0                            # right endpoint\n",
    "n = 10                             # order of approximation\n",
    "\n",
    "# Option 1: (with Cheb)\n",
    "basis_c = Basis(Cheb, n, a, b)\n",
    "c_c = funfitf(basis_c, f)\n",
    "\n",
    "# Option 2: (with Spline)\n",
    "xgrid = collect(linspace(a,b,n))\n",
    "basis_s = Basis(Spline, xgrid, 0, 1)\n",
    "x_s = nodes(basis_s)[1]\n",
    "y_s = f(x_s)\n",
    "c_s = funfitxy(basis_s, x_s, y_s)[1]\n",
    "\n",
    "\n",
    "# Option 3: (with Cheb again)\n",
    "x_c = nodes(basis_c)[1]\n",
    "y_c = f(x_c)\n",
    "phi_c = BasisStructure(basis_c, CompEcon.Expanded(),x_c).vals[1]\n",
    "c_c2 = phi_c\\y_c\n",
    "\n",
    "\n",
    "# Compare different approaches\n",
    "print(\"Coefficients from options 1 and 3\")\n",
    "[c_c c_c2]"
   ]
  },
  {
   "cell_type": "code",
   "execution_count": null,
   "metadata": {
    "collapsed": false,
    "slideshow": {
     "slide_type": "slide"
    }
   },
   "outputs": [],
   "source": [
    "# Having computed the basis coefficients, one may now evaluate the\n",
    "# approximant at any point x using funeval:\n",
    "xvals = collect(linspace(-1.0,1.0,50))\n",
    "y_c = funeval(c_c, basis_c, xvals)\n",
    "y_s = funeval(c_s, basis_s, xvals)\n",
    "yy = f(xvals)\n",
    "\n",
    "yvals = [y_c y_s yy]\n",
    "\n",
    "Method = [\"Cheb\", \"Spline\", \"True Function\"]\n",
    "\n",
    "using PyPlot\n",
    "fig, ax = subplots()\n",
    "for i=1:3\n",
    "    meth = Method[i]\n",
    "    ax[:plot](xvals, yvals[:,i], linewidth=2, alpha=0.6, label=L\"$Method$ =\"\" $meth\")\n",
    "end\n",
    "ax[:legend](loc=1)"
   ]
  },
  {
   "cell_type": "markdown",
   "metadata": {
    "slideshow": {
     "slide_type": "slide"
    }
   },
   "source": [
    "### Two Dimensions:\n",
    "\n",
    "Let the \"state\" be given by $s=(a,y)$. I take the function $f(s) = \\sqrt{a}\\exp{(y)}$. To generate the interpolation, I use a linear spline for the first variable and a Chebichev polynomial for the second. Then I plot the true value and the interpolation, for different values of $s$.\n",
    "\n",
    "In this example, we get a better approximation by mixing splines and Chebychev, than by just using Chebychev in both arguments."
   ]
  },
  {
   "cell_type": "code",
   "execution_count": null,
   "metadata": {
    "collapsed": false,
    "slideshow": {
     "slide_type": "slide"
    }
   },
   "outputs": [],
   "source": [
    "fun2(st) = sqrt(st[:,1]).*exp(st[:,2])\n",
    "\n",
    "agrid0 = collect(linspace(0.0,10.0,10))\n",
    "\n",
    "a_basis = Basis(Spline, agrid0, 0, 1)\n",
    "y_basis = Basis(Cheb, 10, 0.0, 10.0)\n",
    "basis2 = Basis(a_basis, y_basis)\n",
    "\n",
    "c_2d = funfitf(basis2, fun2)\n",
    "\n",
    "avals  = collect(linspace(0.0,10.0,50))\n",
    "yvals  = collect(linspace(0.0,10.0,50))\n",
    "svals  = [avals yvals]\n",
    "y_val  = funeval(c_2d, basis2, svals)\n",
    "y_true = fun2(svals)\n",
    "\n",
    "yvals2d = [y_val y_true]\n",
    "\n",
    "\n",
    "Method = [\"Interpolation\", \"True Function\"]\n",
    "\n",
    "using PyPlot\n",
    "\n",
    "fig, ax = subplots()\n",
    "for i=1:2\n",
    "    meth = Method[i]\n",
    "    ax[:plot](1:1:50, yvals2d[:,i], linewidth=2, alpha=0.6, label=L\"$Method$ =\"\" $meth\")\n",
    "end\n",
    "ax[:legend](loc=1)\n"
   ]
  },
  {
   "cell_type": "markdown",
   "metadata": {
    "slideshow": {
     "slide_type": "slide"
    }
   },
   "source": [
    "### Baseline Model: Economic Growth\n",
    "\n",
    "* Consider an economy that produces and consumes a single composite good.\n",
    "* Infinite horizon. Continuous state and action.\n",
    "* At the begining of period $t$ it has $s\\in(0,\\infty)$ units, of which invests $x\\in[0,s)$.\n",
    "* State transition function: $s=g(s,x,\\epsilon)=\\gamma x+\\epsilon f(x)$.\n",
    "* Rewards function:\n",
    "\\begin{equation}\n",
    "F(s,x)=u(s-x)=\\frac{(s-x)^{1-\\alpha}}{1-\\alpha}\n",
    "\\end{equation}\n",
    "* Bellman Equation:\n",
    "\\begin{equation}\n",
    "V\\left(\\left[x,\\epsilon\\right]\\right)=\\max_{0\\leq x'\\leq s=g\\left(x,\\epsilon\\right)}\\left\\{\\right\\}\n",
    "\\end{equation}\n",
    "* Assume $u'(0)=-\\infty$ and $h(0)=0$"
   ]
  },
  {
   "cell_type": "markdown",
   "metadata": {
    "slideshow": {
     "slide_type": "slide"
    }
   },
   "source": [
    "* From FOC, we get the Euler equation:\n",
    "\\begin{equation}\n",
    "u_{t}'=\\delta E_{t}\\left[u_{t+1}'\\left(\\gamma+\\epsilon_{t+1}f_{t}'\\right)\\right]\n",
    "\\end{equation}\n",
    "* Certainty Equivalent Steady State ($\\epsilon=1$):\n",
    "    * $u'\\left(s^{*}-x^{*}\\right)=\\delta\\lambda^{*}\\left[\\gamma+f'\\left(x^{*}\\right)\\right]$\n",
    "    * $\\lambda^{*}=u'\\left(s^{*}-x^{*}\\right)$\n",
    "    * $s^{*}=\\gamma x^{*}+f\\left(x^{*}\\right)$\n",
    "    \n",
    "    \n",
    "* CE SS conditions imply the golden rule $1-\\gamma+r=f'(x^{*})$ where $\\delta=1/(1+r)$"
   ]
  },
  {
   "cell_type": "markdown",
   "metadata": {
    "slideshow": {
     "slide_type": "slide"
    }
   },
   "source": [
    "To approximate the solution, I follow Simon Mongey's notes given during Gianlucca Violante's course.\n",
    "   \n",
    "   * Define the set of collocation nodes $s = [\\mathbf{1}_{Nz}\\otimes{}\\mathbf{X},\\mathbf{Z}\\otimes{}\\mathbf{1}_{Nx}]$ and let $N=N_{x}\\text{x}N_{z}$\n",
    "   \n",
    "   * We can define the following system:\n",
    "   \\begin{equation}\n",
    "   V(s_{i}) = \\max_{x'\\in B(s_{i})}F(s_{i},x')+\\beta V_{e}([x',s_{i,2}]) \\\\\n",
    "   V_{e}(s_{i}) = \\sum_{k=1}^{Nz}P(z,z_{k}')V([s_{i,1},z'_{k}])\n",
    "   \\end{equation}\n",
    "   \n",
    "   \n",
    "   * If we substitute for the interpolants:\n",
    "   \n",
    "   \\begin{equation}\n",
    "   \\sum_{j=1}^{N}\\phi(s_{i})c_{j}= \\max_{x'\\in B(s_{i})}F(s_{i},x')+\\beta\\sum_{j=1}^{N}\\phi([x',s_{i,2}])c_{j}^{e} \\\\\n",
    "   \\sum_{j=1}^{N}\\phi(s_{i})c_{j}^{e}= \\sum_{k=1}^{Nz}P(z,z_{k}')\\sum_{j=1}^{N}\\phi([s_{i,1},z'_{k}])c_{j}\n",
    "   \\end{equation}"
   ]
  },
  {
   "cell_type": "markdown",
   "metadata": {
    "slideshow": {
     "slide_type": "slide"
    }
   },
   "source": [
    "   * ... and write it in a stacked form, we get:\n",
    "   \n",
    "     \\begin{equation}\n",
    "   \\Phi(s) = \\max_{x'\\in\\mathbf{B}(s)}F(s,x')+\\beta\\Phi([x',s_{2}])c^{e} \\\\\n",
    "   \\Phi(s)c^{e} = (P\\otimes{}\\mathbf{I}_{Nx})\\Phi(s)c\n",
    "   \\end{equation}\n",
    "   \n",
    "   \n",
    "   * The following scripts solves this model using Julia's version of CompEcon written by Spencer Lyon."
   ]
  },
  {
   "cell_type": "markdown",
   "metadata": {
    "slideshow": {
     "slide_type": "slide"
    }
   },
   "source": [
    "* In the following first block I define the Economic Growth model type EconGrowth and auxiliary functions. Some of them are going to be part of the EconGrowth model, since are intrinsic to this specific model.\n",
    "\n",
    "\n",
    "* In particular, these functions are the utility function, the production function and the law of motion for wealth.\n",
    "The auxiliary functions are for the discretization of the stochastic process and the definition of the basis."
   ]
  },
  {
   "cell_type": "code",
   "execution_count": 1,
   "metadata": {
    "collapsed": false,
    "slideshow": {
     "slide_type": "slide"
    }
   },
   "outputs": [
    {
     "data": {
      "text/plain": [
       "get_phi (generic function with 1 method)"
      ]
     },
     "execution_count": 1,
     "metadata": {},
     "output_type": "execute_result"
    }
   ],
   "source": [
    "using CompEcon\n",
    "\n",
    "# Step 0: Define the Economic Growth model type EconGrowth\n",
    "\n",
    "type EconGrowth\n",
    "    a::Float64\n",
    "    b::Float64\n",
    "    nx::Int64\n",
    "    m::Int64\n",
    "    σ::Float64\n",
    "    δ::Float64\n",
    "    u::Function # Utility function. Will already have the parameters.\n",
    "    f::Function # Production function. Idem.\n",
    "    g::Function # Law of Motion for state. Idem.\n",
    "    tol::Float64 # Tolerance Level.\n",
    "    maxit::Int # Maximum iterations.\n",
    "end\n",
    "\n",
    "\n",
    "# Step 1: Define the model's functions\n",
    "\n",
    "function def_funs(α::Float64,β::Float64,γ::Float64)\n",
    "    f(x::Array{Float64,1}) = x.^β\n",
    "    g(sn::Array{Float64,2}) = γ*sn[:,1] + sn[:,2].*f(sn[:,1])\n",
    "    u(sn::Array{Float64,2},xprime::Array{Float64,1}) = (g(sn)-xprime).^(1-α)./(1-α)\n",
    "    \n",
    "    return f,g,u\n",
    "end\n",
    "\n",
    "\n",
    "# Step 2: Define function to discretize stochastic process\n",
    "\n",
    "function discretize(eg::EconGrowth)\n",
    "\n",
    "    ϵ,ω = qnwlogn(eg.m,0,eg.σ^2) # quadrature for lognormal\n",
    "    P = repmat(ω',eg.m,1) # Since the process is i.i.d but I wanted to keep the general structure.\n",
    "    \n",
    "    return ϵ,ω,P\n",
    "end\n",
    "\n",
    "\n",
    "# Step 3: Define function to create the Basis for s and s'\n",
    "\n",
    "function get_nodes(eg::EconGrowth,ϵ::Array{Float64,1})\n",
    "#     x_basis = Basis(Cheb, eg.nx, eg.a, eg.b) # Create basis from chosen type of interpolation\n",
    "    xgrid = collect(linspace(1e-1,eg.b,eg.nx))\n",
    "    x_basis = Basis(Spline, xgrid, 0, 1) # Create Splines\n",
    "    z_basis = Basis(Lin, ϵ, 0) # Create linear\n",
    "\n",
    "    basis  = Basis(x_basis,z_basis) # Combine both basis to have multidimensional basis structure\n",
    "    snodes = nodes(basis)[1] # get the collection of nodes for hte (joint) state S\n",
    "    return basis,snodes\n",
    "end\n",
    "\n",
    "\n",
    "# For s', we will have a new set of nodes, since the first column changes when we maximize\n",
    "function get_phi(basis,snodes_prime)\n",
    "    Φ = BasisStructure(basis, CompEcon.Expanded(),snodes_prime).vals[1] # Compute the multidimensional basis structure\n",
    "end\n"
   ]
  },
  {
   "cell_type": "markdown",
   "metadata": {
    "slideshow": {
     "slide_type": "slide"
    }
   },
   "source": [
    "* Next I write down:\n",
    "    * the optimization problem\n",
    "    * the one-setp update function\n",
    "    * and the iteration function\n",
    "    \n",
    "    \n",
    "* For the optimization I choose the CompEcon Golden Method search algorithm. Alternativley I could use a Newton-Rhapson method.\n",
    "\n",
    "\n",
    "* For solving the Bellman Equation using the collocation nodes I just iterate. Alternatively I could use some Newton rootfinding algorithm."
   ]
  },
  {
   "cell_type": "code",
   "execution_count": 2,
   "metadata": {
    "collapsed": false,
    "slideshow": {
     "slide_type": "slide"
    }
   },
   "outputs": [
    {
     "data": {
      "text/plain": [
       "one_step (generic function with 1 method)"
      ]
     },
     "execution_count": 2,
     "metadata": {},
     "output_type": "execute_result"
    }
   ],
   "source": [
    "# Step 4: Write the Optimization Problem\n",
    "function obj_fun(eg::EconGrowth,basis,snodes,ce::Array{Float64,1})\n",
    "    \n",
    "#     obj(xp::Array{Float64,1}) = eg.u(snodes,xp) + eg.δ*min(get_phi(basis,[xp snodes[:,2]])*ce,0.0)\n",
    "    obj(xp::Array{Float64,1}) = eg.u(snodes,xp) + eg.δ*get_phi(basis,[xp snodes[:,2]])*ce\n",
    "    \n",
    "    x_sol,f_sol = golden_method(obj, zeros(size(snodes,1)), eg.g(snodes))\n",
    "    \n",
    "end\n",
    "\n",
    "\n",
    "# Step 5: Write down the iterative procedure (one-step)\n",
    "# Bellman Iteration\n",
    "\n",
    "function one_step(eg::EconGrowth,cc::Vector{Float64},ce::Vector{Float64},basis,snodes,Φ1,ϵ,P)\n",
    "    xsol,fsol = obj_fun(eg,basis,snodes,ce)\n",
    "    f2 = kron(P,eye(eg.nx))*Φ1*cc\n",
    "    \n",
    "    cc_out = Φ1\\fsol\n",
    "    ce_out = Φ1\\f2\n",
    "    \n",
    "    return cc_out,ce_out\n",
    "end"
   ]
  },
  {
   "cell_type": "code",
   "execution_count": 66,
   "metadata": {
    "collapsed": false,
    "slideshow": {
     "slide_type": "slide"
    }
   },
   "outputs": [
    {
     "data": {
      "text/plain": [
       "iter (generic function with 1 method)"
      ]
     },
     "execution_count": 66,
     "metadata": {},
     "output_type": "execute_result"
    }
   ],
   "source": [
    "# Step 6: Define the iteration function\n",
    "function iter(eg::EconGrowth)\n",
    "    iteration = 0\n",
    "    di = 1\n",
    "\n",
    "    cc = zeros(eg.nx*eg.m)\n",
    "    ce = zeros(eg.nx*eg.m)\n",
    "    \n",
    "    ϵ,ω,P = discretize(eg::EconGrowth)\n",
    "    \n",
    "    basis,snodes = get_nodes(eg,ϵ)\n",
    "    \n",
    "    Φ1 = get_phi(basis,snodes)\n",
    "\n",
    "    while di>eg.tol\n",
    "        iteration += 1\n",
    "            if iteration > eg.maxit\n",
    "                break\n",
    "            else\n",
    "                cc0 = copy(cc)\n",
    "                ce0 = copy(ce)\n",
    "                cc,ce = one_step(eg,cc0,ce0,basis,snodes,Φ1,ϵ,P)\n",
    "\n",
    "                resid1 = norm(cc0-cc)\n",
    "                resid2 = norm(ce0-ce)\n",
    "\n",
    "                di = max(resid1,resid2)\n",
    "#             @printf(\"Iteration %d with distance %.3f\\n\", iteration, di)\n",
    "            end\n",
    "    end\n",
    "    \n",
    "    @printf(\"The total number of interations was %d.\\n\", iteration)\n",
    "    \n",
    "    return cc,ce,basis,Φ1\n",
    "end"
   ]
  },
  {
   "cell_type": "markdown",
   "metadata": {
    "slideshow": {
     "slide_type": "slide"
    }
   },
   "source": [
    "* Finally I give values to the parameters and use it for input to the EconGrowth type.\n",
    "* With that I can solve the model, given this set of parameters.\n",
    "* Then I plot investment (x) in percentage to wealth (s)."
   ]
  },
  {
   "cell_type": "code",
   "execution_count": 67,
   "metadata": {
    "collapsed": false,
    "slideshow": {
     "slide_type": "slide"
    }
   },
   "outputs": [
    {
     "name": "stdout",
     "output_type": "stream",
     "text": [
      "The steady values are r = 0.11, x = 5.61, s = 7.42, c = 1.81.\n",
      "The total number of interations was 421.\n",
      "The vector of coefficients cc and ce are:\n"
     ]
    },
    {
     "data": {
      "text/plain": [
       "30x2 Array{Float64,2}:\n",
       " -31.0785   -30.2021 \n",
       "  -9.8449    -9.55267\n",
       "  -7.76525   -7.56519\n",
       "  -6.76857   -6.60286\n",
       "  -6.13826   -5.98989\n",
       "  -5.67882   -5.54812\n",
       "  -5.32542   -5.2123 \n",
       "  -5.0414    -4.94195\n",
       "  -4.80463   -4.71469\n",
       "  -4.60148   -4.51799\n",
       " -30.2289   -30.2021 \n",
       "  -9.5616    -9.55267\n",
       "  -7.57034   -7.56519\n",
       "   ⋮                 \n",
       "  -4.71641   -4.71469\n",
       "  -4.52054   -4.51799\n",
       " -29.2185   -30.2021 \n",
       "  -9.22474   -9.55267\n",
       "  -7.34452   -7.56519\n",
       "  -6.42982   -6.60286\n",
       "  -5.84422   -5.98989\n",
       "  -5.42237   -5.54812\n",
       "  -5.09908   -5.2123 \n",
       "  -4.8377    -4.94195\n",
       "  -4.61788   -4.71469\n",
       "  -4.42429   -4.51799"
      ]
     },
     "execution_count": 67,
     "metadata": {},
     "output_type": "execute_result"
    }
   ],
   "source": [
    "a,b,nx,m = 0.0,10.0,10,3\n",
    "α,β,γ = 2.0, 0.5, 0.9\n",
    "f,g,u = def_funs(α::Float64,β::Float64,γ::Float64)\n",
    "σ,δ = 0.1, 0.9\n",
    "\n",
    "\n",
    "# Computation of the Steady State\n",
    "r_ss = 1/δ-1\n",
    "x_ss = ((1/β)*(1/δ-γ))^(1/(β-1))\n",
    "s_ss = γ*x_ss+x_ss^β\n",
    "c_ss = s_ss-x_ss\n",
    "lambda_ss = (c_ss)^(-α)\n",
    "vals_ss = [r_ss,x_ss,s_ss,c_ss,lambda_ss]\n",
    "\n",
    "@printf(\"The steady values are r = %.2f, x = %.2f, s = %.2f, c = %.2f.\\n\"\n",
    ",vals_ss[1],vals_ss[2],vals_ss[3],vals_ss[4])\n",
    "\n",
    "# Solution to the Model\n",
    "\n",
    "tol, maxit = 1e-9,10000\n",
    "eg = EconGrowth(a,b,nx,m,σ,δ,u,f,g,tol,maxit)\n",
    "cc,ce,basis,Φ1 =iter(eg)\n",
    "\n",
    "@printf(\"The vector of coefficients cc and ce are:\\n\")\n",
    "[cc ce]"
   ]
  },
  {
   "cell_type": "code",
   "execution_count": 41,
   "metadata": {
    "collapsed": false,
    "slideshow": {
     "slide_type": "slide"
    }
   },
   "outputs": [
    {
     "data": {
      "image/png": "[encoded data removed]",
      "text/plain": [
       "PyPlot.Figure(PyObject <matplotlib.figure.Figure object at 0x3161e4210>)"
      ]
     },
     "metadata": {},
     "output_type": "display_data"
    },
    {
     "data": {
      "text/plain": [
       "(PyObject <matplotlib.text.Text object at 0x31631e1d0>,PyObject <matplotlib.text.Text object at 0x316327590>)"
      ]
     },
     "execution_count": 41,
     "metadata": {},
     "output_type": "execute_result"
    }
   ],
   "source": [
    "using PyPlot\n",
    "\n",
    "ϵ,ω,P = discretize(eg)\n",
    "\n",
    "basis,snodes = get_nodes(eg,ϵ)\n",
    "\n",
    "Φ1 = get_phi(basis,snodes)\n",
    "\n",
    "xsol,fsol = obj_fun(eg,basis,snodes,ce)\n",
    "\n",
    "s = eg.g(snodes)\n",
    "yplot = (xsol)./s\n",
    "res = Φ1*cc-fsol\n",
    "\n",
    "plot(s[1:eg.nx],yplot[1:nx])\n",
    "xlabel(\"Wealth\"), ylabel(\"Investment in % of Wealth\")\n"
   ]
  }
 ],
 "metadata": {
  "celltoolbar": "Slideshow",
  "kernelspec": {
   "display_name": "Julia 0.4.0",
   "language": "julia",
   "name": "julia-0.4"
  },
  "language_info": {
   "file_extension": ".jl",
   "mimetype": "application/julia",
   "name": "julia",
   "version": "0.4.0"
  }
 },
 "nbformat": 4,
 "nbformat_minor": 0
}
